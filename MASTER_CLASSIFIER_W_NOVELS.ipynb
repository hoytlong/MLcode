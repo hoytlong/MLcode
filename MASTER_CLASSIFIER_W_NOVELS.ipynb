{
 "metadata": {
  "name": "",
  "signature": "sha256:e7ef359fc5c7eae7aad920059c07cd3c26ff4379f6d90e46538c2c9317a3c660"
 },
 "nbformat": 3,
 "nbformat_minor": 0,
 "worksheets": [
  {
   "cells": [
    {
     "cell_type": "code",
     "collapsed": false,
     "input": [
      "##### Imports\n",
      "\n",
      "import numpy as np\n",
      "\n",
      "from matplotlib import pyplot\n",
      "\n",
      "%matplotlib inline\n",
      "\n",
      "from sklearn.metrics import classification_report\n",
      "from sklearn.metrics import precision_recall_curve, roc_curve, auc\n",
      "from sklearn.cross_validation import KFold\n",
      "from sklearn import neighbors\n",
      "from sklearn.feature_extraction.text import CountVectorizer\n",
      "from sklearn.feature_extraction.text import TfidfVectorizer\n",
      "from sklearn.metrics import classification_report\n",
      "from sklearn.linear_model import LogisticRegression\n",
      "from sklearn.cross_validation import KFold\n",
      "from sklearn import cross_validation\n",
      "from sklearn.cross_validation import train_test_split\n",
      "from sklearn.feature_selection import RFECV\n",
      "from sklearn.svm import LinearSVC\n",
      "from sklearn.metrics import classification_report\n",
      "from sklearn.metrics import confusion_matrix\n",
      "from sklearn.metrics import accuracy_score\n",
      "\n",
      "from __future__ import division\n",
      "import nltk, re, pprint\n",
      "import pandas as pd\n",
      "from pandas import DataFrame\n",
      "import operator\n",
      "from pandas import Series, DataFrame\n",
      "from scipy import stats\n",
      "from numpy.random import permutation, shuffle\n",
      "\n",
      "import codecs\n",
      "import sys\n",
      "import os\n",
      "sys.stdout = codecs.getwriter('utf_8')(sys.stdout)\n",
      "sys.stdin = codecs.getreader('utf_8')(sys.stdin)\n",
      "sys.path.append('/Users/Hoyt/PythonScripts/Utils')\n",
      "from MLtools import *\n",
      "from RichertUtils import *"
     ],
     "language": "python",
     "metadata": {},
     "outputs": [],
     "prompt_number": 1
    },
    {
     "cell_type": "code",
     "collapsed": false,
     "input": [
      "#use this code to grab novels, chunk them, put into a data frame, and pickle for later use\n",
      "#note: if you've already done this, just unpickle the file in the next cell\n",
      "\n",
      "#cleaner function\n",
      "def clean_text(raw):\n",
      "    import re\n",
      "    raw = re.sub(r'I\\.', '', raw)\n",
      "    raw = re.sub(r'\\]', '', raw)\n",
      "    #raw = re.sub(r'[0-9]', '', raw)\n",
      "    raw = re.sub(r'II', '', raw)\n",
      "    #raw = re.sub(r'[,.;:\"?!*()]', '', raw)\n",
      "    #raw = re.sub(r'-', ' ', raw)\n",
      "    raw = raw.replace('\\'s', '')\n",
      "    raw = raw.replace('\\'S', '')\n",
      "    raw = re.sub(r'\\[', '', raw)\n",
      "    raw = re.sub(u'\\u2014','',raw)\n",
      "    raw = re.sub(u'\\ufeff','',raw)\n",
      "    raw = re.sub(u'\\u2019','',raw)\n",
      "    raw = re.sub(u'\\ufb02','',raw)\n",
      "    raw = re.sub(u'\\u2026', '', raw)\n",
      "    return raw\n",
      "\n",
      "#import the data frame for SOC corpus\n",
      "columns = ['book_id', 'libraries', 'title', 'auth_last', 'auth_first', 'auth_dates', 'publ_city', 'publisher',\n",
      "           'publ_date', 'source', 'nationality', 'genre']\n",
      "df = pd.read_csv(\"c:\\Users\\Public\\Documents\\MyData\\NovelCorpus\\SOC_PROJECT\\CorpusMetadata.csv\", names=columns)\n",
      "df = df.ix[1:]   #filter out first row (the column headers from original .csv)\n",
      "df['filepath'] = Series('',index=df.index)   #add column for filepaths\n",
      "df['num_chunks'] = Series('',index=df.index)   #add columan for texts\n",
      "\n",
      "#set your chunk_length (in characters) -- this will impact following cell too, so treat as global variable\n",
      "chunk_length = 1500\n",
      "\n",
      "#generate filepaths for each text we have and load in the texts, chunking as you go\n",
      "corpus_path = \"C:\\Users\\Public\\Documents\\MyData\\NovelCorpus\\SOC_PROJECT\\\\\"\n",
      "for i in df.index:\n",
      "    df.filepath[i] = corpus_path + str(df.book_id[i]) + \".txt\"  #assign filepath\n",
      "    text = codecs.open(df.filepath[i], \"r\")                     #grab text and measure length\n",
      "    raw = text.read()            \n",
      "    df.num_chunks[i] = int(len(raw)/chunk_length)               #calculate the number of chunks\n",
      "    \n",
      "#now pickle it\n",
      "df.to_pickle('soc_corpus.pkl')"
     ],
     "language": "python",
     "metadata": {},
     "outputs": [],
     "prompt_number": 2
    },
    {
     "cell_type": "code",
     "collapsed": false,
     "input": [
      "df"
     ],
     "language": "python",
     "metadata": {},
     "outputs": [
      {
       "html": [
        "<div style=\"max-height:1000px;max-width:1500px;overflow:auto;\">\n",
        "<table border=\"1\" class=\"dataframe\">\n",
        "  <thead>\n",
        "    <tr style=\"text-align: right;\">\n",
        "      <th></th>\n",
        "      <th>book_id</th>\n",
        "      <th>libraries</th>\n",
        "      <th>title</th>\n",
        "      <th>auth_last</th>\n",
        "      <th>auth_first</th>\n",
        "      <th>auth_dates</th>\n",
        "      <th>publ_city</th>\n",
        "      <th>publisher</th>\n",
        "      <th>publ_date</th>\n",
        "      <th>source</th>\n",
        "      <th>nationality</th>\n",
        "      <th>genre</th>\n",
        "      <th>filepath</th>\n",
        "      <th>num_chunks</th>\n",
        "    </tr>\n",
        "  </thead>\n",
        "  <tbody>\n",
        "    <tr>\n",
        "      <th>1</th>\n",
        "      <td> 11024</td>\n",
        "      <td> 1640</td>\n",
        "      <td>  Mrs. Dalloway</td>\n",
        "      <td> Woolf</td>\n",
        "      <td> Virginia</td>\n",
        "      <td> 1882-1941</td>\n",
        "      <td> New York</td>\n",
        "      <td> Harcourt, Brace &amp; Co.</td>\n",
        "      <td> 1925</td>\n",
        "      <td>   k</td>\n",
        "      <td> British</td>\n",
        "      <td>     SOC</td>\n",
        "      <td> C:\\Users\\Public\\Documents\\MyData\\NovelCorpus\\S...</td>\n",
        "      <td>  241</td>\n",
        "    </tr>\n",
        "    <tr>\n",
        "      <th>2</th>\n",
        "      <td> 50001</td>\n",
        "      <td>  NaN</td>\n",
        "      <td>   Jacob's Room</td>\n",
        "      <td> Woolf</td>\n",
        "      <td> Virginia</td>\n",
        "      <td> 1882-1941</td>\n",
        "      <td>      NaN</td>\n",
        "      <td>                   NaN</td>\n",
        "      <td> 1922</td>\n",
        "      <td> NaN</td>\n",
        "      <td> British</td>\n",
        "      <td>     SOC</td>\n",
        "      <td> C:\\Users\\Public\\Documents\\MyData\\NovelCorpus\\S...</td>\n",
        "      <td>  209</td>\n",
        "    </tr>\n",
        "    <tr>\n",
        "      <th>3</th>\n",
        "      <td> 50002</td>\n",
        "      <td>  NaN</td>\n",
        "      <td>    Middlemarch</td>\n",
        "      <td> Eliot</td>\n",
        "      <td>   George</td>\n",
        "      <td> 1819-1880</td>\n",
        "      <td>      NaN</td>\n",
        "      <td>                   NaN</td>\n",
        "      <td> 1874</td>\n",
        "      <td> NaN</td>\n",
        "      <td> British</td>\n",
        "      <td> REALISM</td>\n",
        "      <td> C:\\Users\\Public\\Documents\\MyData\\NovelCorpus\\S...</td>\n",
        "      <td> 1195</td>\n",
        "    </tr>\n",
        "    <tr>\n",
        "      <th>4</th>\n",
        "      <td> 50003</td>\n",
        "      <td>  NaN</td>\n",
        "      <td> Daniel Deronda</td>\n",
        "      <td> Eliot</td>\n",
        "      <td>   George</td>\n",
        "      <td> 1819-1880</td>\n",
        "      <td>      NaN</td>\n",
        "      <td>                   NaN</td>\n",
        "      <td> 1876</td>\n",
        "      <td> NaN</td>\n",
        "      <td> British</td>\n",
        "      <td> REALISM</td>\n",
        "      <td> C:\\Users\\Public\\Documents\\MyData\\NovelCorpus\\S...</td>\n",
        "      <td> 1161</td>\n",
        "    </tr>\n",
        "  </tbody>\n",
        "</table>\n",
        "</div>"
       ],
       "metadata": {},
       "output_type": "pyout",
       "prompt_number": 3,
       "text": [
        "  book_id libraries           title auth_last auth_first auth_dates publ_city  \\\n",
        "1   11024      1640   Mrs. Dalloway     Woolf   Virginia  1882-1941  New York   \n",
        "2   50001       NaN    Jacob's Room     Woolf   Virginia  1882-1941       NaN   \n",
        "3   50002       NaN     Middlemarch     Eliot     George  1819-1880       NaN   \n",
        "4   50003       NaN  Daniel Deronda     Eliot     George  1819-1880       NaN   \n",
        "\n",
        "               publisher publ_date source nationality    genre  \\\n",
        "1  Harcourt, Brace & Co.      1925      k     British      SOC   \n",
        "2                    NaN      1922    NaN     British      SOC   \n",
        "3                    NaN      1874    NaN     British  REALISM   \n",
        "4                    NaN      1876    NaN     British  REALISM   \n",
        "\n",
        "                                            filepath num_chunks  \n",
        "1  C:\\Users\\Public\\Documents\\MyData\\NovelCorpus\\S...        241  \n",
        "2  C:\\Users\\Public\\Documents\\MyData\\NovelCorpus\\S...        209  \n",
        "3  C:\\Users\\Public\\Documents\\MyData\\NovelCorpus\\S...       1195  \n",
        "4  C:\\Users\\Public\\Documents\\MyData\\NovelCorpus\\S...       1161  "
       ]
      }
     ],
     "prompt_number": 3
    },
    {
     "cell_type": "code",
     "collapsed": false,
     "input": [
      "#unpickle the all_poems data frame\n",
      "soc_corpus = pd.read_pickle('soc_corpus.pkl')\n",
      "\n",
      "#function returns the data frame for specified journal\n",
      "def build_subcorpus_df(genre):\n",
      "    mask = soc_corpus[\"genre\"].isin([genre])   #grab all texts of this label\n",
      "    subcorpus_df = soc_corpus[mask]\n",
      "    k = 0\n",
      "    #now iterate through and build a df for each novel that contains all text chunks\n",
      "    for i in subcorpus_df.index:\n",
      "        book_id_list = [subcorpus_df.book_id[i]]*subcorpus_df.num_chunks[i]  #make lists for metadata items\n",
      "        title_list = [subcorpus_df.title[i]]*subcorpus_df.num_chunks[i]\n",
      "        auth_last_list = [subcorpus_df.auth_last[i]]*subcorpus_df.num_chunks[i]\n",
      "        publ_date_list = [subcorpus_df.publ_date[i]]*subcorpus_df.num_chunks[i]\n",
      "        genre_list = [subcorpus_df.genre[i]]*subcorpus_df.num_chunks[i]\n",
      "        chunk_id_list = range(subcorpus_df.num_chunks[i])\n",
      "        chunk_list = []   #initiate a master list to store novel chunks\n",
      "        text = codecs.open(subcorpus_df.filepath[i], \"r\", \"utf-8\")\n",
      "        raw = text.read()            \n",
      "        raw = raw[:(chunk_length*subcorpus_df.num_chunks[i])]    #get rid of leftovers at the end\n",
      "        #slice and dice!\n",
      "        for j in range(subcorpus_df.num_chunks[i]):\n",
      "            text_chunk = raw[(j*chunk_length):((j+1)*chunk_length)]\n",
      "            text_chunk = clean_text(text_chunk)   #clean the chunk\n",
      "            chunk_list.append(text_chunk)         #add to master list\n",
      "        #now put all these lists into a dictionary and create a data frame\n",
      "        data = {'book_id': book_id_list, 'novel_title': title_list, 'auth_last': auth_last_list, \n",
      "                'publ_date': publ_date_list, 'genre': genre_list, 'chunk_id': chunk_id_list, 'chunk': chunk_list}\n",
      "        chunked_df = DataFrame(data)\n",
      "        #if first time through loop, then initialize a master data frame, else merge with the master\n",
      "        if k == 0:\n",
      "            chunked_subcorpus = chunked_df\n",
      "        else:\n",
      "            chunked_subcorpus = pd.merge(chunked_subcorpus, chunked_df, how='outer')\n",
      "    return chunked_subcorpus\n",
      "\n",
      "class_one_df = build_subcorpus_df(\"SOC\")\n",
      "class_two_df = build_subcorpus_df(\"REALISM\")\n",
      "\n",
      "#combine and add class labels for each\n",
      "combined_df = pd.concat([class_one_df, class_two_df])\n",
      "combined_df['class_labels'] = [0]*len(class_one_df) + [1]*len(class_two_df)\n",
      "combined_df.shape"
     ],
     "language": "python",
     "metadata": {},
     "outputs": [
      {
       "metadata": {},
       "output_type": "pyout",
       "prompt_number": 4,
       "text": [
        "(1370, 8)"
       ]
      }
     ],
     "prompt_number": 4
    },
    {
     "cell_type": "code",
     "collapsed": false,
     "input": [
      "#one problem to address: chunking leaves us with broken sentences at start and end. we could correct for this\n",
      "#but will require some more elaborate coding -- going to punt on it for now\n",
      "\n",
      "#functions for adding additional features to the data frame\n",
      "def median_sent_length(chunk):\n",
      "    chunk_sentences = nltk.sent_tokenize(chunk)\n",
      "    sent_length = []\n",
      "    for sent in chunk_sentences:\n",
      "        sent_length.append(len(sent))\n",
      "    return np.median(sent_length)\n",
      "\n",
      "def word_checker(chunk, word):\n",
      "    word_count = 0                   #do we need to convert chunk to lowercase?\n",
      "    if word in chunk:       \n",
      "        word_count += 1\n",
      "    return word_count\n",
      "\n",
      "#going to have to update stop_words list to include personal names (if we are including bag-of-words)\n",
      "new_dir = 'c:\\Users\\Public\\Documents\\MyData\\NovelCorpus\\SOC_PROJECT\\\\'\n",
      "text = codecs.open(new_dir + \"jockers.txt\", \"r\", \"utf-8\")\n",
      "raw = text.read()\n",
      "#need to turn stopwords into a list\n",
      "raw = raw.split('\\n')\n",
      "jockers_stopwords = []\n",
      "for word in raw:\n",
      "    jockers_stopwords.append(word)\n",
      "\n",
      "#add these features to the data frame\n",
      "vectorizer = TfidfVectorizer(min_df=2, stop_words=jockers_stopwords)\n",
      "word_features = vectorizer.fit_transform(combined_df.chunk).toarray()\n",
      "for i, col in enumerate(vectorizer.get_feature_names()):\n",
      "    combined_df[col] = word_features[:,i]\n",
      "\n",
      "combined_df['word_check'] = combined_df.chunk.map(lambda x: word_checker(x, \"thought\"))    \n",
      "combined_df['sent_length'] = combined_df.chunk.map(lambda x: median_sent_length(x))\n",
      "combined_df.shape"
     ],
     "language": "python",
     "metadata": {},
     "outputs": [
      {
       "metadata": {},
       "output_type": "pyout",
       "prompt_number": 5,
       "text": [
        "(1370, 10381)"
       ]
      }
     ],
     "prompt_number": 5
    },
    {
     "cell_type": "code",
     "collapsed": false,
     "input": [
      "#Shuffle the data frame\n",
      "from numpy.random import permutation\n",
      "combined_df = combined_df.iloc[permutation(range(len(combined_df))), :]\n",
      "combined_df.shape\n",
      "combined_df['class_labels'].value_counts()"
     ],
     "language": "python",
     "metadata": {},
     "outputs": [
      {
       "metadata": {},
       "output_type": "pyout",
       "prompt_number": 6,
       "text": [
        "1    1161\n",
        "0     209\n",
        "dtype: int64"
       ]
      }
     ],
     "prompt_number": 6
    },
    {
     "cell_type": "code",
     "collapsed": false,
     "input": [
      "##### Bias variance analysis + ROC/AUC viz for KNN of various data lengths\n",
      "test_errors, train_errors = [], []\n",
      "X = combined_df.iloc[:, 8:]    #number corresponds to where feature columns begin\n",
      "Y = combined_df['class_labels']\n",
      "\n",
      "for k in [5]: #[5, 10, 40, 90]:\n",
      "    train_errors, test_errors = bias_variance_analysis(neighbors.KNeighborsClassifier, \n",
      "                                                       {'n_neighbors':k, 'warn_on_equidistant':False}, \"%iNN\"%k, \n",
      "                                                       X, Y, data_sizes=range(100, 1000, 50), verbose=False)"
     ],
     "language": "python",
     "metadata": {},
     "outputs": [
      {
       "output_type": "stream",
       "stream": "stdout",
       "text": [
        "('5NN', 0.7198455139631611, 0.038687726040834078, 0.72941391941391942, 0.082044335950099787, 0.92655245071184356, 0.029198563658413456)\n",
        "P=0.80 R=0.80 thresh=0.60\n",
        "('5NN', 0.73333333333333339, 0.057348835113617519, 0.6954475450142974, 0.014051650517856873, 0.92110629877226435, 0.0093030682945145163)"
       ]
      },
      {
       "output_type": "stream",
       "stream": "stdout",
       "text": [
        "\n",
        "P=0.84 R=1.00 thresh=0.00\n",
        "('5NN', 0.74008744157997886, 0.012366106832148272, 0.65971971579938027, 0.040329213923053615, 0.90747660308006051, 0.014166202259148488)"
       ]
      },
      {
       "output_type": "stream",
       "stream": "stdout",
       "text": [
        "\n",
        "P=0.82 R=1.00 thresh=0.00\n",
        "('5NN', 0.83610633008223367, 0.039227285786656969, 0.71097368642889125, 0.024742622526208537, 0.93731122930855137, 0.015888630765271819)"
       ]
      },
      {
       "output_type": "stream",
       "stream": "stdout",
       "text": [
        "\n",
        "P=0.83 R=0.96 thresh=0.40\n",
        "('5NN', 0.82666666666666666, 0.0094280904158206419, 0.72925098198826266, 0.057712221001434603, 0.94224321527311961, 0.032984238104736739)"
       ]
      },
      {
       "output_type": "stream",
       "stream": "stdout",
       "text": [
        "\n",
        "P=0.82 R=1.00 thresh=0.00\n",
        "('5NN', 0.83438942921701542, 0.040559172773764626, 0.70225628591357481, 0.07058253082178112, 0.94018910150898982, 0.026998137279738352)"
       ]
      },
      {
       "output_type": "stream",
       "stream": "stdout",
       "text": [
        "\n",
        "P=0.85 R=1.00 thresh=0.00\n",
        "('5NN', 0.83511016346837241, 0.039672288423090722, 0.68884161717584202, 0.028356060547081376, 0.93925432054103053, 0.012238276565418317)"
       ]
      },
      {
       "output_type": "stream",
       "stream": "stdout",
       "text": [
        "\n",
        "P=0.86 R=1.00 thresh=0.00\n",
        "('5NN', 0.85111111111111104, 0.038232556742411695, 0.67477337026274675, 0.028647198615655487, 0.93881021604232961, 0.014446774925328308)"
       ]
      },
      {
       "output_type": "stream",
       "stream": "stdout",
       "text": [
        "\n",
        "P=0.87 R=1.00 thresh=0.00\n",
        "('5NN', 0.85803092609960796, 0.040613142424480983, 0.71663888914854035, 0.0054382475300964852, 0.94763559788686147, 0.013960482412236483)"
       ]
      },
      {
       "output_type": "stream",
       "stream": "stdout",
       "text": [
        "\n",
        "P=0.87 R=1.00 thresh=0.00\n",
        "('5NN', 0.85827987645521508, 0.038135718538690001, 0.70916731125064469, 0.010226811297150983, 0.95044339135742606, 0.0153535492472391)"
       ]
      },
      {
       "output_type": "stream",
       "stream": "stdout",
       "text": [
        "\n",
        "P=0.90 R=1.00 thresh=0.00\n",
        "('5NN', 0.85499999999999998, 0.03894440481849306, 0.72322734917268539, 0.0067766103722576056, 0.94810605689679261, 0.013407615130847985)"
       ]
      },
      {
       "output_type": "stream",
       "stream": "stdout",
       "text": [
        "\n",
        "P=0.89 R=1.00 thresh=0.00\n",
        "('5NN', 0.85386442510098426, 0.024087270676977218, 0.73603939476429414, 0.0039170307459503737, 0.94928574234854857, 0.0090307410719710976)"
       ]
      },
      {
       "output_type": "stream",
       "stream": "stdout",
       "text": [
        "\n",
        "P=0.87 R=1.00 thresh=0.00\n",
        "('5NN', 0.84861156964161255, 0.026490919456389268, 0.72661548573716928, 0.010793366706463872, 0.94511917546721957, 0.011685111779605954)"
       ]
      },
      {
       "output_type": "stream",
       "stream": "stdout",
       "text": [
        "\n",
        "P=0.85 R=1.00 thresh=0.00\n",
        "('5NN', 0.85466666666666669, 0.032714251057027487, 0.75140142306224789, 0.042022402468751163, 0.94637356849638898, 0.016070383301556364)"
       ]
      },
      {
       "output_type": "stream",
       "stream": "stdout",
       "text": [
        "\n",
        "P=0.84 R=1.00 thresh=0.00\n",
        "('5NN', 0.85622295438971963, 0.02756985073908905, 0.73339567289897645, 0.029990952097113253, 0.94360140870614073, 0.015895014180926915)"
       ]
      },
      {
       "output_type": "stream",
       "stream": "stdout",
       "text": [
        "\n",
        "P=0.85 R=1.00 thresh=0.00\n",
        "('5NN', 0.85529786492808446, 0.024626956248051966, 0.71186731564297545, 0.029580325726697831, 0.93611158760012037, 0.017735979514018018)"
       ]
      },
      {
       "output_type": "stream",
       "stream": "stdout",
       "text": [
        "\n",
        "P=0.86 R=1.00 thresh=0.00\n",
        "('5NN', 0.85666666666666658, 0.011863420280034773, 0.71757869424710619, 0.018020272859972274, 0.93805241749831347, 0.013342649514251769)"
       ]
      },
      {
       "output_type": "stream",
       "stream": "stdout",
       "text": [
        "\n",
        "P=0.86 R=1.00 thresh=0.00\n",
        "('5NN', 0.85367501231215648, 0.0066942661217846353, 0.72306634711820472, 0.0013589252293446899, 0.93780970757216886, 0.0094290624219519354)"
       ]
      },
      {
       "output_type": "stream",
       "stream": "stdout",
       "text": [
        "\n",
        "P=0.86 R=1.00 thresh=0.00\n"
       ]
      },
      {
       "output_type": "stream",
       "stream": "stderr",
       "text": [
        "C:\\Users\\Hoyt\\AppData\\Local\\Enthought\\Canopy32\\User\\lib\\site-packages\\sklearn\\neighbors\\base.py:217: UserWarning: Internal: memory layout is flawed: not enough nodes allocated\n",
        "  **self.effective_metric_kwds_)\n"
       ]
      }
     ],
     "prompt_number": 7
    },
    {
     "cell_type": "code",
     "collapsed": false,
     "input": [
      "##### Plot k-complexity analysis\n",
      "ks = np.hstack((np.arange(1, 20, 5)))\n",
      "k_complexity_analysis(neighbors.KNeighborsClassifier, {'n_neighbors':k,'warn_on_equidistant':False}, \n",
      "                      X, Y, ks, 2000, verbose=False)"
     ],
     "language": "python",
     "metadata": {},
     "outputs": [
      {
       "output_type": "stream",
       "stream": "stdout",
       "text": [
        "('1NN', 0.84307938884410161, 0.02371210097479921, 0.6234226279884002, 0.045844748103491706, 0.93673152697058981, 0.0092027301673649267)\n",
        "P=0.86 R=1.00 thresh=0.00\n",
        "('6NN', 0.84744296006244646, 0.005802887620131392, 0.75244370363798396, 0.028686332444378414, 0.94521155790292621, 0.010726322817207992)"
       ]
      },
      {
       "output_type": "stream",
       "stream": "stdout",
       "text": [
        "\n",
        "P=0.86 R=1.00 thresh=0.00\n",
        "('11NN', 0.86204364850858006, 0.0089343596725741051, 0.76950572478928825, 0.0066131935387479862, 0.94349644051524562, 0.0046903552227842652)"
       ]
      },
      {
       "output_type": "stream",
       "stream": "stdout",
       "text": [
        "\n",
        "P=0.86 R=1.00 thresh=0.00\n",
        "('16NN', 0.85328451508055336, 0.0071481853228100179, 0.7746159652431831, 0.011846079271141308, 0.94757841811078614, 0.0039997840759096685)"
       ]
      },
      {
       "output_type": "stream",
       "stream": "stdout",
       "text": [
        "\n",
        "P=0.84 R=1.00 thresh=0.00\n"
       ]
      },
      {
       "metadata": {},
       "output_type": "display_data",
       "png": "[encoded data removed]",
       "text": [
        "<matplotlib.figure.Figure at 0x33f4150>"
       ]
      }
     ],
     "prompt_number": 8
    },
    {
     "cell_type": "code",
     "collapsed": false,
     "input": [
      "train_errors, test_errors"
     ],
     "language": "python",
     "metadata": {},
     "outputs": [
      {
       "metadata": {},
       "output_type": "pyout",
       "prompt_number": 9,
       "text": [
        "([0.17005879692446857,\n",
        "  0.17000000000000004,\n",
        "  0.14992705644708784,\n",
        "  0.14396508188442392,\n",
        "  0.12666666666666668,\n",
        "  0.12855972512624872,\n",
        "  0.12124412153980453,\n",
        "  0.12,\n",
        "  0.11799224374074672,\n",
        "  0.11452082805993558,\n",
        "  0.11666666666666665,\n",
        "  0.11691907635437397,\n",
        "  0.11357001283571207,\n",
        "  0.11199999999999999,\n",
        "  0.10937898920907967,\n",
        "  0.11587862471254699,\n",
        "  0.11611111111111112,\n",
        "  0.1136875958291181],\n",
        " [0.28015448603683896,\n",
        "  0.26666666666666666,\n",
        "  0.25991255842002109,\n",
        "  0.1638936699177663,\n",
        "  0.17333333333333337,\n",
        "  0.16561057078298458,\n",
        "  0.16488983653162761,\n",
        "  0.14888888888888888,\n",
        "  0.14196907390039201,\n",
        "  0.141720123544785,\n",
        "  0.14499999999999999,\n",
        "  0.14613557489901577,\n",
        "  0.15138843035838745,\n",
        "  0.14533333333333334,\n",
        "  0.14377704561028037,\n",
        "  0.14470213507191562,\n",
        "  0.14333333333333334,\n",
        "  0.14632498768784361])"
       ]
      }
     ],
     "prompt_number": 9
    },
    {
     "cell_type": "code",
     "collapsed": false,
     "input": [
      "##### Plot KNN Bias Variance analysis\n",
      "\n",
      "pylab.clf()\n",
      "\n",
      "pylab.plot(range(100, 1000, 50), train_errors, label='Train errors')\n",
      "pylab.plot(range(100, 1000, 50), test_errors, label='Test errors')\n",
      "pylab.legend()\n",
      "pylab.title(\"Bias Variance for 5NN\")\n",
      "# pylab.ylim((0,100))\n",
      "pylab.show()"
     ],
     "language": "python",
     "metadata": {},
     "outputs": [
      {
       "metadata": {},
       "output_type": "display_data",
       "png": "[encoded data removed]",
       "text": [
        "<matplotlib.figure.Figure at 0xb807c10>"
       ]
      }
     ],
     "prompt_number": 10
    },
    {
     "cell_type": "code",
     "collapsed": false,
     "input": [
      "##### Bias variance analysis for Logistic Regression of various threshold values\n",
      "\n",
      "#### WHAT IS THIS \"12\" VALUE HERE? DO WE NEED TO CHANGE THAT?\n",
      "\n",
      "for C in [0.1]: #[0.01, 0.1, 1.0, 10.0]:\n",
      "    name = \"LogReg C=%.2f\" % C\n",
      "    train_errors, test_errors = bias_variance_analysis(LogisticRegression, {'penalty':'l2', 'C':C}, name, \n",
      "                                                       X, Y, data_sizes=range(100, 1000, 50))\n",
      "    measure(LogisticRegression, {'penalty': 'l2', 'C': C}, name, X, Y, plot=False)"
     ],
     "language": "python",
     "metadata": {},
     "outputs": [
      {
       "output_type": "stream",
       "stream": "stdout",
       "text": [
        "('LogReg C=0.10', 0.78966131907308379, 0.026954952399795007, 0.82867521367521357, 0.12559617016425736, 0.95443845542997729, 0.034463778054028983)\n",
        "P=0.90 R=1.00 thresh=0.00\n",
        "('LogReg C=0.10', 0.80666666666666664, 0.033993463423951875, 0.80968894118765766, 0.060594071963644011, 0.95140227859206894, 0.014716824143036319)"
       ]
      },
      {
       "output_type": "stream",
       "stream": "stdout",
       "text": [
        "\n",
        "P=0.80 R=0.97 thresh=0.66\n",
        "('LogReg C=0.10', 0.80506558118498417, 0.011097100087187103, 0.81956507270972667, 0.077704751414907069, 0.95272984615432288, 0.021170946960680899)"
       ]
      },
      {
       "output_type": "stream",
       "stream": "stdout",
       "text": [
        "\n",
        "P=0.83 R=1.00 thresh=0.00\n",
        "('LogReg C=0.10', 0.84017020462803593, 0.038860383886079791, 0.83293317092988817, 0.028910420130184168, 0.96444607968942986, 0.010833648484582679)"
       ]
      },
      {
       "output_type": "stream",
       "stream": "stdout",
       "text": [
        "\n",
        "P=0.81 R=1.00 thresh=0.00\n",
        "('LogReg C=0.10', 0.85333333333333317, 0.0694422221866655, 0.82603717795053655, 0.0450564922236548, 0.96555956631525974, 0.019440401101149033)"
       ]
      },
      {
       "output_type": "stream",
       "stream": "stdout",
       "text": [
        "\n",
        "P=0.80 R=0.99 thresh=0.71\n",
        "('LogReg C=0.10', 0.85443069063758725, 0.041541176740811619, 0.8288253456289586, 0.028355061173625885, 0.96809426517936525, 0.0045944994157289401)"
       ]
      },
      {
       "output_type": "stream",
       "stream": "stdout",
       "text": [
        "\n",
        "P=0.87 R=1.00 thresh=0.00\n",
        "('LogReg C=0.10', 0.85012905397822924, 0.039597293189905028, 0.818198572681058, 0.046112705329101798, 0.96270952121973197, 0.01062394929621365)"
       ]
      },
      {
       "output_type": "stream",
       "stream": "stdout",
       "text": [
        "\n",
        "P=0.81 R=1.00 thresh=0.00\n",
        "('LogReg C=0.10', 0.85777777777777775, 0.038618104882183944, 0.82827541641892033, 0.049114591178863215, 0.96609364212795812, 0.011502593658920783)"
       ]
      },
      {
       "output_type": "stream",
       "stream": "stdout",
       "text": [
        "\n",
        "P=0.82 R=1.00 thresh=0.00\n",
        "('LogReg C=0.10', 0.86202294206767183, 0.035172466264032781, 0.8442351601374698, 0.032711301365733997, 0.96927771948718944, 0.009316358843621227)"
       ]
      },
      {
       "output_type": "stream",
       "stream": "stdout",
       "text": [
        "\n",
        "P=0.83 R=1.00 thresh=0.00\n",
        "('LogReg C=0.10', 0.86920883820384887, 0.045863661502477414, 0.83411593411593399, 0.014862765660873967, 0.9696716821802861, 0.0064340995961783823)"
       ]
      },
      {
       "output_type": "stream",
       "stream": "stdout",
       "text": [
        "\n",
        "P=0.93 R=1.00 thresh=0.00\n",
        "('LogReg C=0.10', 0.86166666666666669, 0.040276819911981891, 0.83690425031207161, 0.034637476761966234, 0.96811228297639174, 0.00084828375903523757)"
       ]
      },
      {
       "output_type": "stream",
       "stream": "stdout",
       "text": [
        "\n",
        "P=0.92 R=1.00 thresh=0.00\n",
        "('LogReg C=0.10', 0.85847272003185982, 0.028684079101216911, 0.83903685612041079, 0.037492357870897941, 0.96773680268007423, 0.0033108838540678288)"
       ]
      },
      {
       "output_type": "stream",
       "stream": "stdout",
       "text": [
        "\n",
        "P=0.92 R=1.00 thresh=0.00\n",
        "('LogReg C=0.10', 0.85575241798417767, 0.026976209818611888, 0.85086865774826936, 0.033303793599443639, 0.96927231930040081, 0.0056934186783475305)"
       ]
      },
      {
       "output_type": "stream",
       "stream": "stdout",
       "text": [
        "\n",
        "P=0.93 R=1.00 thresh=0.00\n",
        "('LogReg C=0.10', 0.85066666666666668, 0.024073960113690406, 0.86221422068297005, 0.031467481985499528, 0.96942550434361696, 0.010175416842588448)"
       ]
      },
      {
       "output_type": "stream",
       "stream": "stdout",
       "text": [
        "\n",
        "P=0.92 R=1.00 thresh=0.00\n",
        "('LogReg C=0.10', 0.85371199534416553, 0.02826395347835162, 0.86651095485082263, 0.03085133989507291, 0.96908050993621142, 0.013114075456879652)"
       ]
      },
      {
       "output_type": "stream",
       "stream": "stdout",
       "text": [
        "\n",
        "P=0.93 R=1.00 thresh=0.00\n",
        "('LogReg C=0.10', 0.84940858342042835, 0.026036627190966759, 0.87493422999288117, 0.041847118312165296, 0.97171989693538208, 0.0079221045953125763)"
       ]
      },
      {
       "output_type": "stream",
       "stream": "stdout",
       "text": [
        "\n",
        "P=0.87 R=1.00 thresh=0.00\n",
        "('LogReg C=0.10', 0.85111111111111104, 0.019116278371205827, 0.88174205397624938, 0.034289190235345227, 0.97257359139310873, 0.0092879206447444088)"
       ]
      },
      {
       "output_type": "stream",
       "stream": "stdout",
       "text": [
        "\n",
        "P=0.91 R=1.00 thresh=0.00\n",
        "('LogReg C=0.10', 0.84733924316841691, 0.019768799374822194, 0.88296572619328051, 0.036141141190923702, 0.97062632678856497, 0.012221804222247359)"
       ]
      },
      {
       "output_type": "stream",
       "stream": "stdout",
       "text": [
        "\n",
        "P=0.90 R=1.00 thresh=0.00\n",
        "('LogReg C=0.10', 0.84963434296901996, 0.0080679228363783103, 0.90508285199165928, 0.039307009860044151, 0.97339895478222049, 0.014692436212690852)"
       ]
      },
      {
       "output_type": "stream",
       "stream": "stdout",
       "text": [
        "\n",
        "P=0.91 R=1.00 thresh=0.00\n"
       ]
      }
     ],
     "prompt_number": 11
    },
    {
     "cell_type": "code",
     "collapsed": false,
     "input": [
      "#### Plot Bias variance analysis for LR\n",
      "\n",
      "pylab.clf()\n",
      "pylab.plot(range(100, 1000, 50), train_errors, label='Train errors')\n",
      "pylab.plot(range(100, 1000, 50), test_errors, label='Test errors')\n",
      "pylab.legend()\n",
      "pylab.title(\"Bias Variance for LogReg C=0.1\")\n",
      "# pylab.ylim((0,100))\n",
      "pylab.show()"
     ],
     "language": "python",
     "metadata": {},
     "outputs": [
      {
       "metadata": {},
       "output_type": "display_data",
       "png": "[encoded data removed]",
       "text": [
        "<matplotlib.figure.Figure at 0xa77f890>"
       ]
      }
     ],
     "prompt_number": 12
    },
    {
     "cell_type": "code",
     "collapsed": false,
     "input": [
      "test_errors[0]"
     ],
     "language": "python",
     "metadata": {},
     "outputs": [
      {
       "metadata": {},
       "output_type": "pyout",
       "prompt_number": 13,
       "text": [
        "0.21033868092691624"
       ]
      }
     ],
     "prompt_number": 13
    },
    {
     "cell_type": "code",
     "collapsed": false,
     "input": [
      "##### Compute and plot feature importance/coefficients\n",
      " \n",
      "clf = LogisticRegression()\n",
      "X_train, y_train = combined_df.iloc[:500, 8:].values, combined_df['class_labels'][:500].values\n",
      "X_test, y_test = combined_df.iloc[500:, 8:].values, combined_df['class_labels'][500:].values\n",
      "clf.fit(X_train, y_train)\n",
      "    \n",
      "feature_names = combined_df.columns[8:].values     \n",
      "class_labels = combined_df['class_labels'].unique()\n",
      "\n",
      "# bottom10 = np.argsort(clf.coef_)[-10:]\n",
      "# top10 = np.argsort(clf.coef_)[-10:]\n",
      "\n",
      "top10 = np.argsort(np.exp(clf.coef_))[0][-10:]\n",
      "for el in zip(feature_names[top10], np.exp(clf.coef_)[0][top10]):\n",
      "    print el\n",
      "\n",
      "bottom10 = np.argsort(np.exp(clf.coef_))[0][:10]\n",
      "for el in zip(feature_names[bottom10], np.exp(clf.coef_)[0][bottom10]):\n",
      "    print el\n",
      "    \n",
      "#pylab.bar(range(10), np.exp(clf.coef_)[0][top10])\n",
      "#pylab.show()\n",
      "#pylab.xticks(feature_names[top10])"
     ],
     "language": "python",
     "metadata": {},
     "outputs": [
      {
       "output_type": "stream",
       "stream": "stdout",
       "text": [
        "(u'her', 2.3194560586161375)\n",
        "(u'have', 2.4902857009007175)\n",
        "(u'not', 2.5414425177451063)\n",
        "(u'that', 2.5677367872833372)\n",
        "(u'gwendolen', 2.7014120868567666)\n",
        "(u'deronda', 2.7831391381619501)\n",
        "(u'my', 2.8033020914387374)\n",
        "(u'me', 2.9578934368633027)\n",
        "(u'to', 3.9786973451085701)\n",
        "(u'you', 6.9810437157476963)\n",
        "(u'the', 0.098899982518562496)\n",
        "(u'jacob', 0.12047766728596229)\n",
        "(u'flanders', 0.33630183905486083)\n",
        "(u'clara', 0.47254510311017595)\n",
        "(u'bonamy', 0.50275970760098643)\n",
        "(u'cruttendon', 0.56531045232877131)\n",
        "(u'floyd', 0.56786431078747168)\n",
        "(u'upon', 0.57455171429319318)\n",
        "(u'durrant', 0.59255242023845467)\n",
        "(u'bowley', 0.60790974989042434)\n"
       ]
      }
     ],
     "prompt_number": 14
    },
    {
     "cell_type": "code",
     "collapsed": false,
     "input": [
      "new_data = pd.DataFrame({'feature_names':feature_names, 'coeffs':np.exp(clf.coef_)[0]})\n",
      "new_data.sort(columns='coeffs', inplace=True)\n",
      "new_data.index = new_data.feature_names\n",
      "new_data.loc['sent_length']"
     ],
     "language": "python",
     "metadata": {},
     "outputs": [
      {
       "metadata": {},
       "output_type": "pyout",
       "prompt_number": 15,
       "text": [
        "coeffs              1.027397\n",
        "feature_names    sent_length\n",
        "Name: sent_length, dtype: object"
       ]
      }
     ],
     "prompt_number": 15
    },
    {
     "cell_type": "code",
     "collapsed": false,
     "input": [
      "#plot a histogram of feature importance for the LogRegression model\n",
      "\n",
      "feature_names = combined_df.columns[8:].values\n",
      "pylab.figure(num=None, figsize=(6, 5))\n",
      "coef_ = clf.coef_\n",
      "important = np.argsort(np.absolute(coef_.ravel()))\n",
      "important = important[-100:]         #increase this number to get more of the top features\n",
      "f_imp = feature_names[important]\n",
      "coef = coef_.ravel()[important]\n",
      "inds = np.argsort(coef)\n",
      "f_imp = f_imp[inds]\n",
      "coef = coef[inds]\n",
      "xpos = np.array(list(range(len(coef))))\n",
      "pylab.bar(xpos, coef, width=1)\n",
      "\n",
      "pylab.title('Feature importance for %s' % (name))\n",
      "ax = pylab.gca()\n",
      "ax.set_xticks(np.arange(len(coef)))\n",
      "labels = ax.set_xticklabels(f_imp)\n",
      "for label in labels:\n",
      "    label.set_rotation(90)\n",
      "filename = name.replace(\" \", \"_\")\n",
      "#pylab.savefig(os.path.join(CHART_DIR, \"feat_imp_%s.png\" % filename), bbox_inches=\"tight\")\n",
      "pylab.show()"
     ],
     "language": "python",
     "metadata": {},
     "outputs": [
      {
       "metadata": {},
       "output_type": "display_data",
       "png": "[encoded data removed]",
       "text": [
        "<matplotlib.figure.Figure at 0xb8075b0>"
       ]
      }
     ],
     "prompt_number": 16
    },
    {
     "cell_type": "code",
     "collapsed": false,
     "input": [
      "f_imp_df = DataFrame(f_imp)\n",
      "coef_df = DataFrame(coef)"
     ],
     "language": "python",
     "metadata": {},
     "outputs": [],
     "prompt_number": 17
    },
    {
     "cell_type": "code",
     "collapsed": false,
     "input": [
      "from ggplot import *\n",
      "\n",
      "p = ggplot(aes(x='coef_df'), data=f_imp_df)\n",
      "p + geom_histogram()"
     ],
     "language": "python",
     "metadata": {},
     "outputs": [
      {
       "output_type": "stream",
       "stream": "stderr",
       "text": [
        "stat_bin: binwidth defaulted to range/30.\n",
        "    Use 'binwidth = x' to adjust this.\n",
        "C:\\Users\\Hoyt\\AppData\\Local\\Enthought\\Canopy32\\User\\lib\\site-packages\\pandas-0.14.1-py2.7-win32.egg\\pandas\\util\\decorators.py:53: FutureWarning: rows is deprecated, use index instead\n",
        "  warnings.warn(msg, FutureWarning)\n"
       ]
      },
      {
       "metadata": {},
       "output_type": "display_data",
       "png": "[encoded data removed]",
       "text": [
        "<matplotlib.figure.Figure at 0xc48bfd0>"
       ]
      },
      {
       "metadata": {},
       "output_type": "pyout",
       "prompt_number": 18,
       "text": [
        "<ggplot: (11320649)>"
       ]
      }
     ],
     "prompt_number": 18
    },
    {
     "cell_type": "code",
     "collapsed": false,
     "input": [
      "#####  most important features\n",
      "n=10\n",
      "c_f = sorted(zip(clf.coef_[0], combined_df.columns[8:]))\n",
      "top = list(zip(c_f[:n], c_f[:-(n + 1):-1]))\n",
      "for (c1, f1), (c2, f2) in top:\n",
      "    print(\"\\t%.4f\\t%-15s\\t\\t%.4f\\t%-15s\" % (c1, f1, c2, f2))\n",
      "    \n",
      "#this is implemented above   \n",
      "def plot_feat_importance(feature_names, clf, name):\n",
      "    pylab.figure(num=None, figsize=(6, 5))\n",
      "    coef_ = clf.coef_\n",
      "    important = np.argsort(np.absolute(coef_.ravel()))\n",
      "    f_imp = feature_names[important]\n",
      "    coef = coef_.ravel()[important]\n",
      "    inds = np.argsort(coef)\n",
      "    f_imp = f_imp[inds]\n",
      "    coef = coef[inds]\n",
      "    xpos = np.array(list(range(len(coef))))\n",
      "    pylab.bar(xpos, coef, width=1)\n",
      "\n",
      "    pylab.title('Feature importance for %s' % (name))\n",
      "    ax = pylab.gca()\n",
      "    ax.set_xticks(np.arange(len(coef)))\n",
      "    labels = ax.set_xticklabels(f_imp)\n",
      "    for label in labels:\n",
      "        label.set_rotation(90)\n",
      "    filename = name.replace(\" \", \"_\")\n",
      "    pylab.savefig(os.path.join(\n",
      "        CHART_DIR, \"feat_imp_%s.png\" % filename), bbox_inches=\"tight\")"
     ],
     "language": "python",
     "metadata": {},
     "outputs": [
      {
       "output_type": "stream",
       "stream": "stdout",
       "text": [
        "\t-2.3136\tthe            \t\t1.9432\tyou            \n",
        "\t-2.1163\tjacob          \t\t1.3810\tto             \n",
        "\t-1.0897\tflanders       \t\t1.0845\tme             \n",
        "\t-0.7496\tclara          \t\t1.0308\tmy             \n",
        "\t-0.6876\tbonamy         \t\t1.0236\tderonda        \n",
        "\t-0.5704\tcruttendon     \t\t0.9938\tgwendolen      \n",
        "\t-0.5659\tfloyd          \t\t0.9430\tthat           \n",
        "\t-0.5542\tupon           \t\t0.9327\tnot            \n",
        "\t-0.5233\tdurrant        \t\t0.9124\thave           \n",
        "\t-0.4977\tbowley         \t\t0.8413\ther            \n"
       ]
      }
     ],
     "prompt_number": 19
    }
   ],
   "metadata": {}
  }
 ]
}
